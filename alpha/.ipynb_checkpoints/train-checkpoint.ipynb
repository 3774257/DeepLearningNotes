{
 "cells": [
  {
   "cell_type": "code",
   "execution_count": 1,
   "metadata": {
    "collapsed": true
   },
   "outputs": [],
   "source": [
    "import multiprocessing\n",
    "import threading\n",
    "import tensorflow as tf\n",
    "from ACNet import Access\n",
    "from Framework import Framework"
   ]
  },
  {
   "cell_type": "code",
   "execution_count": 2,
   "metadata": {
    "collapsed": true
   },
   "outputs": [],
   "source": [
    "NUMS_CPU = multiprocessing.cpu_count()\n",
    "state_size = 58\n",
    "batch_size = 50\n",
    "action_size = 3\n",
    "max_episodes = 10\n",
    "GD = {}"
   ]
  },
  {
   "cell_type": "code",
   "execution_count": 3,
   "metadata": {
    "collapsed": true
   },
   "outputs": [],
   "source": [
    "class Worker(Framework):\n",
    "\n",
    "    def __init__(self, name, access, state_size, batch_size, action_size):\n",
    "        super().__init__(name, access, state_size, batch_size, action_size)\n",
    "\n",
    "    def run(self, sess, max_episodes, t_max=8):\n",
    "        episode_score_list = []\n",
    "        episode = 0\n",
    "        while episode < max_episodes:\n",
    "            episode += 1\n",
    "            episode_socre, _ = self.run_episode(sess, t_max)\n",
    "            episode_score_list.append(episode_socre)\n",
    "            GD[str(self.name)] = episode_score_list\n",
    "            if self.name == 'W0':\n",
    "                print('Episode: %f, score: %f' % (episode, episode_socre))\n",
    "                print('\\n')"
   ]
  },
  {
   "cell_type": "code",
   "execution_count": 4,
   "metadata": {},
   "outputs": [
    {
     "name": "stdout",
     "output_type": "stream",
     "text": [
      "WARNING:tensorflow:The `skip_connections` argument will be deprecated. Please use snt.SkipConnectionCore instead.\n",
      "WARNING:tensorflow:The `skip_connections` argument will be deprecated. Please use snt.SkipConnectionCore instead.\n",
      "WARNING:tensorflow:The `skip_connections` argument will be deprecated. Please use snt.SkipConnectionCore instead.\n",
      "WARNING:tensorflow:The `skip_connections` argument will be deprecated. Please use snt.SkipConnectionCore instead.\n"
     ]
    },
    {
     "name": "stderr",
     "output_type": "stream",
     "text": [
      "E:\\software\\Anaconda363\\lib\\site-packages\\tensorflow\\python\\ops\\gradients_impl.py:96: UserWarning: Converting sparse IndexedSlices to a dense Tensor of unknown shape. This may consume a large amount of memory.\n",
      "  \"Converting sparse IndexedSlices to a dense Tensor of unknown shape. \"\n"
     ]
    },
    {
     "name": "stdout",
     "output_type": "stream",
     "text": [
      "graph W0\n",
      "WARNING:tensorflow:The `skip_connections` argument will be deprecated. Please use snt.SkipConnectionCore instead.\n",
      "WARNING:tensorflow:The `skip_connections` argument will be deprecated. Please use snt.SkipConnectionCore instead.\n",
      "graph W1\n",
      "WARNING:tensorflow:The `skip_connections` argument will be deprecated. Please use snt.SkipConnectionCore instead.\n",
      "WARNING:tensorflow:The `skip_connections` argument will be deprecated. Please use snt.SkipConnectionCore instead.\n",
      "graph W2\n",
      "WARNING:tensorflow:The `skip_connections` argument will be deprecated. Please use snt.SkipConnectionCore instead.\n",
      "WARNING:tensorflow:The `skip_connections` argument will be deprecated. Please use snt.SkipConnectionCore instead.\n",
      "graph W3\n",
      "WARNING:tensorflow:The `skip_connections` argument will be deprecated. Please use snt.SkipConnectionCore instead.\n",
      "WARNING:tensorflow:The `skip_connections` argument will be deprecated. Please use snt.SkipConnectionCore instead.\n",
      "graph W4\n",
      "WARNING:tensorflow:The `skip_connections` argument will be deprecated. Please use snt.SkipConnectionCore instead.\n",
      "WARNING:tensorflow:The `skip_connections` argument will be deprecated. Please use snt.SkipConnectionCore instead.\n",
      "graph W5\n",
      "WARNING:tensorflow:The `skip_connections` argument will be deprecated. Please use snt.SkipConnectionCore instead.\n",
      "WARNING:tensorflow:The `skip_connections` argument will be deprecated. Please use snt.SkipConnectionCore instead.\n",
      "graph W6\n",
      "WARNING:tensorflow:The `skip_connections` argument will be deprecated. Please use snt.SkipConnectionCore instead.\n",
      "WARNING:tensorflow:The `skip_connections` argument will be deprecated. Please use snt.SkipConnectionCore instead.\n",
      "graph W7\n",
      "actor: -4.351710, actor_grad: 4.918072, policy mean: 1.109558, policy: -4.340945, entropy: -0.010765, critic: 0.046404, critic_grad: 0.432405, value: 0.046404, value_mean: -0.316479, advantage: -3.578690\n",
      "Episode: 1.000000, score: 0.788775\n",
      "\n",
      "\n",
      "actor: -3.779090, actor_grad: 1.477806, policy mean: 0.953492, policy: -3.769613, entropy: -0.009478, critic: 0.003799, critic_grad: 0.211271, value: 0.003799, value_mean: -0.083649, advantage: -4.002062\n",
      "Episode: 2.000000, score: 0.795353\n",
      "\n",
      "\n",
      "actor: 10.473018, actor_grad: 6.649261, policy mean: 1.003981, policy: 10.482761, entropy: -0.009743, critic: 0.107355, critic_grad: 22.453459, value: 0.107355, value_mean: -0.080331, advantage: 10.447111\n",
      "Episode: 3.000000, score: 0.845088\n",
      "\n",
      "\n",
      "actor: -0.638486, actor_grad: 19.069897, policy mean: 0.790759, policy: -0.630594, entropy: -0.007892, critic: 1.570231, critic_grad: 1078.013062, value: 1.570231, value_mean: 0.221685, advantage: -2.371513\n",
      "Episode: 4.000000, score: 0.914982\n",
      "\n",
      "\n",
      "actor: 125.440140, actor_grad: 107.347572, policy mean: 0.853387, policy: 125.447617, entropy: -0.007474, critic: 9.219370, critic_grad: 94589.945312, value: 9.219370, value_mean: -1.047870, advantage: 143.112045\n",
      "Episode: 5.000000, score: 0.851524\n",
      "\n",
      "\n",
      "actor: -9.252954, actor_grad: 3.639398, policy mean: 0.925113, policy: -9.243576, entropy: -0.009379, critic: 0.017418, critic_grad: 2.753674, value: 0.017418, value_mean: 0.495563, advantage: -10.272781\n",
      "Episode: 6.000000, score: 0.908431\n",
      "\n",
      "\n",
      "actor: 4.299987, actor_grad: 1.241061, policy mean: 0.713953, policy: 4.307316, entropy: -0.007329, critic: 0.006418, critic_grad: 1.440622, value: 0.006418, value_mean: -0.280135, advantage: 6.090352\n",
      "Episode: 7.000000, score: 0.785960\n",
      "\n",
      "\n",
      "actor: -6.485353, actor_grad: 7.974276, policy mean: 0.714501, policy: -6.478036, entropy: -0.007317, critic: 0.016420, critic_grad: 2.827122, value: 0.016420, value_mean: -0.635059, advantage: -9.107764\n",
      "Episode: 8.000000, score: 0.772984\n",
      "\n",
      "\n",
      "actor: -35.342705, actor_grad: 29.768736, policy mean: 1.025755, policy: -35.338680, entropy: -0.004023, critic: 0.101855, critic_grad: 8.203455, value: 0.101855, value_mean: 0.437966, advantage: -31.308168\n",
      "Episode: 9.000000, score: 0.969243\n",
      "\n",
      "\n",
      "actor: -20.175903, actor_grad: 10.820656, policy mean: 0.729162, policy: -20.169950, entropy: -0.005953, critic: 0.081762, critic_grad: 6.544826, value: 0.081762, value_mean: -0.218853, advantage: -28.303215\n",
      "Episode: 10.000000, score: 0.766543\n",
      "\n",
      "\n"
     ]
    }
   ],
   "source": [
    "# config = tf.ConfigProto()\n",
    "# config.gpu_options.allow_growth = True\n",
    "# with tf.Session(config=config) as sess:\n",
    "with tf.Session() as sess:\n",
    "    with tf.device(\"/cpu:0\"):\n",
    "        A = Access(state_size, batch_size, action_size)\n",
    "        F_list = []\n",
    "        for i in range(NUMS_CPU):\n",
    "            F_list.append(Worker('W%i' % i, A, state_size, batch_size, action_size))\n",
    "        COORD = tf.train.Coordinator()\n",
    "        sess.run(tf.global_variables_initializer())\n",
    "        sess.graph.finalize()\n",
    "\n",
    "        threads_list = []\n",
    "        for ac in F_list:\n",
    "            job = lambda: ac.run(sess, max_episodes)\n",
    "            t = threading.Thread(target=job)\n",
    "            t.start()\n",
    "            threads_list.append(t)\n",
    "        COORD.join(threads_list)\n",
    "        A.save(sess, 'model/saver_1.ckpt')"
   ]
  },
  {
   "cell_type": "code",
   "execution_count": null,
   "metadata": {
    "collapsed": true
   },
   "outputs": [],
   "source": []
  }
 ],
 "metadata": {
  "kernelspec": {
   "display_name": "Python 3",
   "language": "python",
   "name": "python3"
  },
  "language_info": {
   "codemirror_mode": {
    "name": "ipython",
    "version": 3
   },
   "file_extension": ".py",
   "mimetype": "text/x-python",
   "name": "python",
   "nbconvert_exporter": "python",
   "pygments_lexer": "ipython3",
   "version": "3.6.3"
  }
 },
 "nbformat": 4,
 "nbformat_minor": 2
}
