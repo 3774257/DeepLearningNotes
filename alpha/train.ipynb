{
 "cells": [
  {
   "cell_type": "code",
   "execution_count": null,
   "metadata": {
    "collapsed": true
   },
   "outputs": [],
   "source": [
    "import multiprocessing\n",
    "import threading\n",
    "import tensorflow as tf\n",
    "from ACNet import Access\n",
    "from Framework import Framework"
   ]
  },
  {
   "cell_type": "code",
   "execution_count": null,
   "metadata": {
    "collapsed": true
   },
   "outputs": [],
   "source": [
    "NUMS_CPU = multiprocessing.cpu_count()\n",
    "state_size = 58\n",
    "batch_size = 50\n",
    "action_size = 3\n",
    "max_episodes = 10\n",
    "GD = {}"
   ]
  },
  {
   "cell_type": "code",
   "execution_count": null,
   "metadata": {
    "collapsed": true
   },
   "outputs": [],
   "source": [
    "class Worker(Framework):\n",
    "\n",
    "    def __init__(self, name, access, state_size, batch_size, action_size):\n",
    "        super().__init__(name, access, state_size, batch_size, action_size)\n",
    "\n",
    "    def run(self, sess, max_episodes, t_max=8):\n",
    "        episode_score_list = []\n",
    "        episode = 0\n",
    "        while episode < max_episodes:\n",
    "            episode += 1\n",
    "            episode_socre, _ = self.run_episode(sess, t_max)\n",
    "            episode_score_list.append(episode_socre)\n",
    "            GD[str(self.name)] = episode_score_list\n",
    "            if self.name == 'W0':\n",
    "                print('Episode: %f, score: %f' % (episode, episode_socre))\n",
    "                print('\\n')"
   ]
  },
  {
   "cell_type": "code",
   "execution_count": null,
   "metadata": {},
   "outputs": [],
   "source": [
    "# config = tf.ConfigProto()\n",
    "# config.gpu_options.allow_growth = True\n",
    "# with tf.Session(config=config) as sess:\n",
    "with tf.Session() as sess:\n",
    "    with tf.device(\"/cpu:0\"):\n",
    "        A = Access(state_size, batch_size, action_size)\n",
    "        F_list = []\n",
    "        for i in range(NUMS_CPU):\n",
    "            F_list.append(Worker('W%i' % i, A, state_size, batch_size, action_size))\n",
    "        COORD = tf.train.Coordinator()\n",
    "        sess.run(tf.global_variables_initializer())\n",
    "        sess.graph.finalize()\n",
    "\n",
    "        threads_list = []\n",
    "        for ac in F_list:\n",
    "            job = lambda: ac.run(sess, max_episodes)\n",
    "            t = threading.Thread(target=job)\n",
    "            t.start()\n",
    "            threads_list.append(t)\n",
    "        COORD.join(threads_list)\n",
    "        A.save(sess, 'model/saver_1.ckpt')"
   ]
  },
  {
   "cell_type": "markdown",
   "metadata": {
    "collapsed": true
   },
   "source": [
    "test"
   ]
  },
  {
   "cell_type": "code",
   "execution_count": null,
   "metadata": {
    "collapsed": true
   },
   "outputs": [],
   "source": [
    "tf.reset_default_graph()"
   ]
  },
  {
   "cell_type": "code",
   "execution_count": null,
   "metadata": {
    "collapsed": true
   },
   "outputs": [],
   "source": [
    "import tensorflow as tf\n",
    "from ACNet import Access, Agent\n",
    "from env03.main import Account\n",
    "\n",
    "import numpy as np\n",
    "import pandas as pd\n",
    "import seaborn as sns\n",
    "sns.set_style('whitegrid')\n",
    "%matplotlib inline"
   ]
  },
  {
   "cell_type": "code",
   "execution_count": null,
   "metadata": {},
   "outputs": [],
   "source": [
    "state_size = 58\n",
    "batch_size = 50\n",
    "action_size = 3\n",
    "\n",
    "\n",
    "config = tf.ConfigProto()\n",
    "config.gpu_options.allow_growth = True\n",
    "with tf.Session(config=config) as sess:\n",
    "    with tf.device(\"/cpu:0\"):\n",
    "        A = Access(state_size, batch_size, action_size)\n",
    "        W = Agent('W0', A, state_size, batch_size, action_size)\n",
    "        A.restore(sess,'model/saver_1.ckpt')\n",
    "        W.init_network(sess)\n",
    "        env = Account()\n",
    "        state = env.reset()\n",
    "        for _ in range(200):\n",
    "            state = np.transpose(state, [1, 0, 2])\n",
    "            action = W.get_deterministic_policy_action(sess, state)\n",
    "            state, reward, done = env.step(action)"
   ]
  },
  {
   "cell_type": "code",
   "execution_count": null,
   "metadata": {},
   "outputs": [],
   "source": [
    "value, reward = env.plot_data()\n",
    "\n",
    "pd.Series(value).plot(figsize=(16,6))"
   ]
  },
  {
   "cell_type": "code",
   "execution_count": null,
   "metadata": {},
   "outputs": [],
   "source": [
    "pd.Series(reward).plot(figsize=(16,6))\n",
    "pd.Series(np.zeros_like(reward)).plot(figsize=(16,6), color='r')"
   ]
  },
  {
   "cell_type": "code",
   "execution_count": null,
   "metadata": {
    "collapsed": true
   },
   "outputs": [],
   "source": []
  }
 ],
 "metadata": {
  "kernelspec": {
   "display_name": "Python 3",
   "language": "python",
   "name": "python3"
  },
  "language_info": {
   "codemirror_mode": {
    "name": "ipython",
    "version": 3
   },
   "file_extension": ".py",
   "mimetype": "text/x-python",
   "name": "python",
   "nbconvert_exporter": "python",
   "pygments_lexer": "ipython3",
   "version": "3.6.3"
  }
 },
 "nbformat": 4,
 "nbformat_minor": 2
}
