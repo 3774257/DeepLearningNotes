{
 "cells": [
  {
   "cell_type": "code",
   "execution_count": null,
   "metadata": {
    "collapsed": true
   },
   "outputs": [],
   "source": [
    "import tensorflow as tf\n",
    "from agent.main import Agent\n",
    "from emulator.main import Account\n",
    "from config import *\n",
    "\n",
    "import numpy as np\n",
    "import pandas as pd\n",
    "import matplotlib.pyplot as plt\n",
    "import seaborn as sns\n",
    "sns.set_style('whitegrid')\n",
    "%matplotlib inline"
   ]
  },
  {
   "cell_type": "code",
   "execution_count": null,
   "metadata": {},
   "outputs": [],
   "source": [
    "NUM_EPISODES = 100\n",
    "\n",
    "\n",
    "env = Account()\n",
    "tf.reset_default_graph()\n",
    "agent = Agent(True)\n",
    "agent.restore_model()\n",
    "# fill cache\n",
    "for episode in range(2):\n",
    "    state = env.reset()\n",
    "    while True:\n",
    "        action = agent.get_stochastic_policy(state, 0)\n",
    "        next_state, reward, done = env.step(action)\n",
    "        agent.update_cache(state, action, reward, next_state, done)\n",
    "        state = next_state\n",
    "        if done:\n",
    "            break\n",
    "print(len(agent.agent.cache))\n",
    "\n",
    "\n",
    "episodes_train = []\n",
    "global_step = 0\n",
    "for episode in range(NUM_EPISODES):\n",
    "    state = env.reset()\n",
    "    episode_step = 0\n",
    "    while True:\n",
    "        global_step += 1\n",
    "        episode_step += 1\n",
    "\n",
    "        action = agent.get_stochastic_policy(state)\n",
    "        next_state, reward, done = env.step(action)\n",
    "        agent.update_cache(state, action, reward, next_state, done)\n",
    "        state = next_state\n",
    "\n",
    "        if global_step % TARGET_STEP_SIZE == 0:\n",
    "            agent.update_target()\n",
    "\n",
    "        if episode_step % TRAIN_STEP_SIZE == 0 or done:\n",
    "            agent.update_eval()\n",
    "\n",
    "            if done:\n",
    "                print(episode, env.A.total_value)\n",
    "                episodes_train.append(env.plot_data())\n",
    "                break\n",
    "\n",
    "agent.save_model()"
   ]
  },
  {
   "cell_type": "code",
   "execution_count": null,
   "metadata": {
    "collapsed": true
   },
   "outputs": [],
   "source": [
    "tmp = env.plot_data()\n",
    "episode_value = [i[\"value\"] for i in episodes_train]\n",
    "episode_value = pd.concat(episode_value, axis=1)\n",
    "episode_value.columns = list(range(episode_value.shape[1]))\n",
    "episode_value.plot(figsize=(12, 9),legend=False )"
   ]
  },
  {
   "cell_type": "markdown",
   "metadata": {},
   "source": [
    "#### 算法测试"
   ]
  },
  {
   "cell_type": "code",
   "execution_count": null,
   "metadata": {
    "collapsed": true
   },
   "outputs": [],
   "source": [
    "state = env.reset()\n",
    "tf.reset_default_graph()\n",
    "agent = Agent(False)\n",
    "agent.restore_model()\n",
    "\n",
    "for i in range(1445):\n",
    "    action = agent.get_deterministic_policy(state)\n",
    "    next_state, reward, done = env.step(action)\n",
    "    state = next_state\n",
    "\n",
    "tmp = env.plot_data()\n",
    "tmp.iloc[:, 0].plot(figsize=(16, 6))"
   ]
  },
  {
   "cell_type": "code",
   "execution_count": null,
   "metadata": {
    "collapsed": true
   },
   "outputs": [],
   "source": [
    "tmp.iloc[1203:, 0].plot(figsize=(16, 6))\n",
    "\n",
    "test_data = tmp.iloc[1203:]\n",
    "ratio = np.sum(np.maximum(np.sign(test_data['reward']), 0))/test_data.shape[0]\n",
    "print(\"胜率:\", ratio)"
   ]
  },
  {
   "cell_type": "markdown",
   "metadata": {},
   "source": [
    "#### 继续训练"
   ]
  },
  {
   "cell_type": "code",
   "execution_count": null,
   "metadata": {
    "collapsed": true,
    "scrolled": true
   },
   "outputs": [],
   "source": [
    "env = Account()\n",
    "tf.reset_default_graph()\n",
    "agent = Agent(True)\n",
    "agent.restore_model()\n",
    "# fill cache\n",
    "for episode in range(2):\n",
    "    state = env.reset()\n",
    "    while True:\n",
    "        action = agent.get_stochastic_policy(state, 0)\n",
    "        next_state, reward, done = env.step(action)\n",
    "        agent.update_cache(state, action, reward, next_state, done)\n",
    "        state = next_state\n",
    "        if done:\n",
    "            break\n",
    "print(len(agent.agent.cache))\n",
    "\n",
    "\n",
    "NUM_EPISODES = 100\n",
    "\n",
    "episodes_train = []\n",
    "global_step = 0\n",
    "for episode in range(NUM_EPISODES):\n",
    "    state = env.reset()\n",
    "    episode_step = 0\n",
    "    while True:\n",
    "        global_step += 1\n",
    "        episode_step += 1\n",
    "\n",
    "        action = agent.get_stochastic_policy(state)\n",
    "        next_state, reward, done = env.step(action)\n",
    "        agent.update_cache(state, action, reward, next_state, done)\n",
    "        state = next_state\n",
    "\n",
    "        if global_step % TARGET_STEP_SIZE == 0:\n",
    "            agent.update_target()\n",
    "\n",
    "        if episode_step % TRAIN_STEP_SIZE == 0 or done:\n",
    "            agent.update_eval()\n",
    "\n",
    "            if done:\n",
    "                print(episode, env.A.total_value)\n",
    "                episodes_train.append(env.plot_data())\n",
    "                break\n",
    "\n",
    "agent.save_model()"
   ]
  },
  {
   "cell_type": "code",
   "execution_count": null,
   "metadata": {
    "collapsed": true
   },
   "outputs": [],
   "source": [
    "tmp = env.plot_data()\n",
    "episode_value = [i[\"value\"] for i in episodes_train]\n",
    "episode_value = pd.concat(episode_value, axis=1)\n",
    "episode_value.columns = list(range(episode_value.shape[1]))\n",
    "episode_value.plot(figsize=(12, 9),legend=False )"
   ]
  },
  {
   "cell_type": "markdown",
   "metadata": {},
   "source": [
    "#### 算法测试"
   ]
  },
  {
   "cell_type": "code",
   "execution_count": null,
   "metadata": {
    "collapsed": true
   },
   "outputs": [],
   "source": [
    "state = env.reset()\n",
    "tf.reset_default_graph()\n",
    "agent = Agent(False)\n",
    "agent.restore_model()\n",
    "\n",
    "for i in range(1445):\n",
    "    action = agent.get_deterministic_policy(state)\n",
    "    next_state, reward, done = env.step(action)\n",
    "    state = next_state\n",
    "\n",
    "tmp = env.plot_data()\n",
    "tmp.iloc[:, 0].plot(figsize=(16, 6))"
   ]
  },
  {
   "cell_type": "code",
   "execution_count": null,
   "metadata": {
    "collapsed": true
   },
   "outputs": [],
   "source": [
    "tmp.iloc[1203:, 0].plot(figsize=(16, 6))\n",
    "\n",
    "test_data = tmp.iloc[1203:]\n",
    "ratio = np.sum(np.maximum(np.sign(test_data['reward']), 0))/test_data.shape[0]\n",
    "print(\"胜率:\", ratio)"
   ]
  },
  {
   "cell_type": "code",
   "execution_count": null,
   "metadata": {
    "collapsed": true
   },
   "outputs": [],
   "source": [
    "env = Account()\n",
    "tf.reset_default_graph()\n",
    "agent = Agent(True)\n",
    "agent.restore_model()\n",
    "# fill cache\n",
    "for episode in range(2):\n",
    "    state = env.reset()\n",
    "    while True:\n",
    "        action = agent.get_stochastic_policy(state, 0)\n",
    "        next_state, reward, done = env.step(action)\n",
    "        agent.update_cache(state, action, reward, next_state, done)\n",
    "        state = next_state\n",
    "        if done:\n",
    "            break\n",
    "print(len(agent.agent.cache))\n",
    "\n",
    "\n",
    "NUM_EPISODES = 100\n",
    "\n",
    "episodes_train = []\n",
    "global_step = 0\n",
    "for episode in range(NUM_EPISODES):\n",
    "    state = env.reset()\n",
    "    episode_step = 0\n",
    "    while True:\n",
    "        global_step += 1\n",
    "        episode_step += 1\n",
    "\n",
    "        action = agent.get_stochastic_policy(state)\n",
    "        next_state, reward, done = env.step(action)\n",
    "        agent.update_cache(state, action, reward, next_state, done)\n",
    "        state = next_state\n",
    "\n",
    "        if global_step % TARGET_STEP_SIZE == 0:\n",
    "            agent.update_target()\n",
    "\n",
    "        if episode_step % TRAIN_STEP_SIZE == 0 or done:\n",
    "            agent.update_eval()\n",
    "\n",
    "            if done:\n",
    "                print(episode, env.A.total_value)\n",
    "                episodes_train.append(env.plot_data())\n",
    "                break\n",
    "\n",
    "agent.save_model()"
   ]
  },
  {
   "cell_type": "code",
   "execution_count": null,
   "metadata": {
    "collapsed": true
   },
   "outputs": [],
   "source": [
    "tmp = env.plot_data()\n",
    "episode_value = [i[\"value\"] for i in episodes_train]\n",
    "episode_value = pd.concat(episode_value, axis=1)\n",
    "episode_value.columns = list(range(episode_value.shape[1]))\n",
    "episode_value.plot(figsize=(12, 9),legend=False )"
   ]
  },
  {
   "cell_type": "code",
   "execution_count": null,
   "metadata": {
    "collapsed": true
   },
   "outputs": [],
   "source": [
    "state = env.reset()\n",
    "tf.reset_default_graph()\n",
    "agent = Agent(False)\n",
    "agent.restore_model()\n",
    "\n",
    "for i in range(1445):\n",
    "    action = agent.get_deterministic_policy(state)\n",
    "    next_state, reward, done = env.step(action)\n",
    "    state = next_state\n",
    "\n",
    "tmp = env.plot_data()\n",
    "tmp.iloc[:, 0].plot(figsize=(16, 6))"
   ]
  },
  {
   "cell_type": "code",
   "execution_count": null,
   "metadata": {
    "collapsed": true
   },
   "outputs": [],
   "source": [
    "tmp.iloc[1203:, 0].plot(figsize=(16, 6))\n",
    "\n",
    "test_data = tmp.iloc[1203:]\n",
    "ratio = np.sum(np.maximum(np.sign(test_data['reward']), 0))/test_data.shape[0]\n",
    "print(\"胜率:\", ratio)"
   ]
  },
  {
   "cell_type": "code",
   "execution_count": null,
   "metadata": {
    "collapsed": true
   },
   "outputs": [],
   "source": []
  }
 ],
 "metadata": {
  "kernelspec": {
   "display_name": "Python 3",
   "language": "python",
   "name": "python3"
  },
  "language_info": {
   "codemirror_mode": {
    "name": "ipython",
    "version": 3
   },
   "file_extension": ".py",
   "mimetype": "text/x-python",
   "name": "python",
   "nbconvert_exporter": "python",
   "pygments_lexer": "ipython3",
   "version": "3.6.3"
  }
 },
 "nbformat": 4,
 "nbformat_minor": 1
}
