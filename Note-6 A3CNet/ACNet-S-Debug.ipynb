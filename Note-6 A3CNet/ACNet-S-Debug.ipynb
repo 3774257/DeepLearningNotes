{
 "cells": [
  {
   "cell_type": "code",
   "execution_count": 1,
   "metadata": {
    "collapsed": true
   },
   "outputs": [],
   "source": [
    "import numpy as np\n",
    "import tensorflow as tf\n",
    "from sonnet.python.modules.basic import Linear\n",
    "from sonnet.python.modules.base import AbstractModule\n",
    "\n",
    "LEARNING_RATE = 1e-3\n",
    "_EPSILON = 1e-6 # avoid nan\n",
    "ENTROPY_BETA = 10\n",
    "GAMMA = 0.9 # discount factor\n",
    "VALUE_BETA = 0.5"
   ]
  },
  {
   "cell_type": "code",
   "execution_count": 2,
   "metadata": {
    "collapsed": true
   },
   "outputs": [],
   "source": [
    "def swich(tensor):\n",
    "    return tensor * tf.nn.sigmoid(tensor + _EPSILON)\n",
    "\n",
    "# shared neural network\n",
    "def _build_shared_network(inputs):\n",
    "    # inputs [batch_size, state_size]\n",
    "    network = Linear(32, 'input_layer')(inputs)\n",
    "    return swich(network)\n",
    "\n",
    "\n",
    "class build_policy_network(AbstractModule):\n",
    "    def __init__(self, name):\n",
    "        super().__init__(name=name)\n",
    "        \n",
    "    def _build(self, inputs, action_size):\n",
    "        shared_network = _build_shared_network(inputs)\n",
    "        policy = Linear(32, 'policy_input')(shared_network)\n",
    "        policy = swich(policy)\n",
    "        policy = Linear(action_size, 'policy_output')(policy)\n",
    "        return tf.nn.softmax(policy + _EPSILON) # avoid nan   \n",
    "\n",
    "    \n",
    "class build_value_network(AbstractModule):\n",
    "    def __init__(self, name):\n",
    "        super().__init__(name=name)\n",
    "        \n",
    "    def _build(self, inputs):\n",
    "        shared_network = _build_shared_network(inputs)\n",
    "        value = Linear(32, 'value_input')(shared_network)\n",
    "        value = swich(value)\n",
    "        value = Linear(1, 'value_output')(value)\n",
    "        return value\n",
    "    \n",
    "    \n",
    "# build approximate neural network\n",
    "def _build_approximate_network(inputs, action_size):\n",
    "    shared_network = _build_shared_network(inputs)\n",
    "    \n",
    "    policy = Linear(32, 'policy_input')(shared_network)\n",
    "    policy = swich(policy)\n",
    "    policy = Linear(action_size, 'policy_output')(policy)\n",
    "    policy = tf.nn.softmax(policy + _EPSILON) # avoid nan   \n",
    "    \n",
    "    value = Linear(32, 'value_input')(shared_network)\n",
    "    value = swich(value)\n",
    "    value = Linear(1, 'value_output')(value)\n",
    "    return policy, value\n",
    "\n",
    "class simple_approximate_network(AbstractModule):\n",
    "    def __init__(self, name):\n",
    "        super().__init__(name=name)\n",
    "    \n",
    "    def _build(self, inputs, action_size):\n",
    "        return _build_approximate_network(inputs, action_size)\n",
    "        \n",
    "# batch gather function from https://github.com/deepmind/dnc/blob/master/util.py\n",
    "def _batch_gather(values, indices):\n",
    "    \"\"\"Returns batched `tf.gather` for every row in the input.\"\"\"\n",
    "    with tf.name_scope('batch_gather', values=[values, indices]):\n",
    "        unpacked = zip(tf.unstack(values), tf.unstack(indices))\n",
    "        result = [tf.gather(value, index) for value, index in unpacked]\n",
    "        return tf.stack(result)"
   ]
  },
  {
   "cell_type": "code",
   "execution_count": 3,
   "metadata": {},
   "outputs": [
    {
     "data": {
      "text/plain": [
       "<tf.Tensor 'global_policy/Softmax:0' shape=(?, 2) dtype=float32>"
      ]
     },
     "execution_count": 3,
     "metadata": {},
     "output_type": "execute_result"
    }
   ],
   "source": [
    "# test\n",
    "tf.reset_default_graph()\n",
    "state = tf.placeholder(tf.float32, [None, 4], 'inputs')\n",
    "\n",
    "policy_network = build_policy_network('global_policy')\n",
    "policy_network(state, 2)\n"
   ]
  },
  {
   "cell_type": "code",
   "execution_count": 4,
   "metadata": {
    "scrolled": true
   },
   "outputs": [
    {
     "data": {
      "text/plain": [
       "(<tf.Variable 'global_policy/linear/w:0' shape=(4, 32) dtype=float32_ref>,\n",
       " <tf.Variable 'global_policy/linear/b:0' shape=(32,) dtype=float32_ref>,\n",
       " <tf.Variable 'global_policy/linear_1/w:0' shape=(32, 32) dtype=float32_ref>,\n",
       " <tf.Variable 'global_policy/linear_1/b:0' shape=(32,) dtype=float32_ref>,\n",
       " <tf.Variable 'global_policy/linear_2/w:0' shape=(32, 2) dtype=float32_ref>,\n",
       " <tf.Variable 'global_policy/linear_2/b:0' shape=(2,) dtype=float32_ref>)"
      ]
     },
     "execution_count": 4,
     "metadata": {},
     "output_type": "execute_result"
    }
   ],
   "source": [
    "policy_network.get_variables()"
   ]
  },
  {
   "cell_type": "code",
   "execution_count": 5,
   "metadata": {},
   "outputs": [
    {
     "data": {
      "text/plain": [
       "<tf.Tensor 'global_value/linear_2/add:0' shape=(?, 1) dtype=float32>"
      ]
     },
     "execution_count": 5,
     "metadata": {},
     "output_type": "execute_result"
    }
   ],
   "source": [
    "tf.reset_default_graph()\n",
    "state = tf.placeholder(tf.float32, [None, 4], 'inputs')\n",
    "\n",
    "value_network = build_value_network('global_value')\n",
    "value_network(state)"
   ]
  },
  {
   "cell_type": "code",
   "execution_count": 6,
   "metadata": {
    "scrolled": false
   },
   "outputs": [
    {
     "data": {
      "text/plain": [
       "(<tf.Variable 'global_value/linear/w:0' shape=(4, 32) dtype=float32_ref>,\n",
       " <tf.Variable 'global_value/linear/b:0' shape=(32,) dtype=float32_ref>,\n",
       " <tf.Variable 'global_value/linear_1/w:0' shape=(32, 32) dtype=float32_ref>,\n",
       " <tf.Variable 'global_value/linear_1/b:0' shape=(32,) dtype=float32_ref>,\n",
       " <tf.Variable 'global_value/linear_2/w:0' shape=(32, 1) dtype=float32_ref>,\n",
       " <tf.Variable 'global_value/linear_2/b:0' shape=(1,) dtype=float32_ref>)"
      ]
     },
     "execution_count": 6,
     "metadata": {},
     "output_type": "execute_result"
    }
   ],
   "source": [
    "value_network.get_variables()"
   ]
  },
  {
   "cell_type": "code",
   "execution_count": 7,
   "metadata": {
    "collapsed": true
   },
   "outputs": [],
   "source": [
    "# global network for buffer weights and calculate gardients\n",
    "class Access(object):\n",
    "    def __init__(self, state_size, action_size, name='access'):\n",
    "        #variable_scope for more clear graph, not necessary\n",
    "        with tf.variable_scope(name):                   \n",
    "            # placeholder for state and next state or you may like call it observation\n",
    "            self.inputs = tf.placeholder(tf.float32, [None, state_size], 'inputs')     \n",
    "            #self.network = simple_approximate_network('global_network')\n",
    "            #self.policy, self.value = self.network(self.inputs, action_size)\n",
    "            self.policy_network = build_policy_network('global_policy')\n",
    "            self.value_network = build_value_network('global_value')\n",
    "            self.policy = self.policy_network(self.inputs, action_size)\n",
    "            self.value = self.value_network(self.inputs)\n",
    "            \n",
    "        self.optimizer_actor = tf.train.RMSPropOptimizer(LEARNING_RATE, name='optimizer_actor')\n",
    "        self.optimizer_critic = tf.train.RMSPropOptimizer(LEARNING_RATE, name='optimizer_critic') \n",
    "        \n",
    "    def get_trainable_variables(self):\n",
    "        return [self.policy_network.get_variables(), self.value_network.get_variables()]"
   ]
  },
  {
   "cell_type": "code",
   "execution_count": 8,
   "metadata": {},
   "outputs": [],
   "source": [
    "# test\n",
    "tf.reset_default_graph()\n",
    "A = Access(4, 2)"
   ]
  },
  {
   "cell_type": "code",
   "execution_count": 9,
   "metadata": {},
   "outputs": [
    {
     "data": {
      "text/plain": [
       "[(<tf.Variable 'access/global_policy/linear/w:0' shape=(4, 32) dtype=float32_ref>,\n",
       "  <tf.Variable 'access/global_policy/linear/b:0' shape=(32,) dtype=float32_ref>,\n",
       "  <tf.Variable 'access/global_policy/linear_1/w:0' shape=(32, 32) dtype=float32_ref>,\n",
       "  <tf.Variable 'access/global_policy/linear_1/b:0' shape=(32,) dtype=float32_ref>,\n",
       "  <tf.Variable 'access/global_policy/linear_2/w:0' shape=(32, 2) dtype=float32_ref>,\n",
       "  <tf.Variable 'access/global_policy/linear_2/b:0' shape=(2,) dtype=float32_ref>),\n",
       " (<tf.Variable 'access/global_value/linear/w:0' shape=(4, 32) dtype=float32_ref>,\n",
       "  <tf.Variable 'access/global_value/linear/b:0' shape=(32,) dtype=float32_ref>,\n",
       "  <tf.Variable 'access/global_value/linear_1/w:0' shape=(32, 32) dtype=float32_ref>,\n",
       "  <tf.Variable 'access/global_value/linear_1/b:0' shape=(32,) dtype=float32_ref>,\n",
       "  <tf.Variable 'access/global_value/linear_2/w:0' shape=(32, 1) dtype=float32_ref>,\n",
       "  <tf.Variable 'access/global_value/linear_2/b:0' shape=(1,) dtype=float32_ref>)]"
      ]
     },
     "execution_count": 9,
     "metadata": {},
     "output_type": "execute_result"
    }
   ],
   "source": [
    "A.get_trainable_variables()"
   ]
  },
  {
   "cell_type": "code",
   "execution_count": 10,
   "metadata": {
    "collapsed": true
   },
   "outputs": [],
   "source": [
    "# local network for advantage actor-critic which are also know as A2C\n",
    "class ACNet(object):\n",
    "    def __init__(self, Access, state_size, action_size, name):\n",
    "        self.Access = Access\n",
    "        self.state_size = state_size\n",
    "        self.action_size = action_size\n",
    "        # action space, we assume that action space is range(0 to action_size-1)\n",
    "        self.action_space = np.arange(action_size, dtype=np.int32)\n",
    "        \n",
    "        #variable_scope local graph, necessary\n",
    "        with tf.variable_scope(name):\n",
    "            # placeholder for state and next state or you may like call it observation\n",
    "            self.inputs = tf.placeholder(tf.float32, [None, state_size], 'inputs')   \n",
    "            self.action = tf.placeholder(tf.int32, [None], 'action')\n",
    "            # n-step reward and discounted n next step value\n",
    "            self.target = tf.placeholder(tf.float32, [None, 1], 'target')\n",
    "            \n",
    "            self.policy_network = build_policy_network('global_policy')\n",
    "            self.value_network = build_value_network('global_value')\n",
    "            self.policy = self.policy_network(self.inputs, action_size)\n",
    "            self.value = self.value_network(self.inputs)\n",
    "            \n",
    "            self._build_loss_function()\n",
    "            self.update_local, self.update_access = self._build_update()         \n",
    "        \n",
    "    def _build_loss_function(self):\n",
    "        self.advantage = self.target - self.value\n",
    "        # value loss\n",
    "        self.value_loss = tf.reduce_mean(tf.square(self.advantage))\n",
    "    \n",
    "        # policy loss\n",
    "        # get the stochastic policy action probability\n",
    "        #policy_action = _batch_gather(self.policy, self.action)\n",
    "        action_onehot = tf.one_hot(self.action, self.action_size)\n",
    "        policy_action = tf.reduce_sum(self.policy * action_onehot, axis=1, keep_dims=True)\n",
    "        log_policy_action = tf.log(policy_action + _EPSILON)\n",
    "        # no grad pass through advantage in actor network \n",
    "        policy_loss = tf.stop_gradient(self.advantage) * tf.expand_dims(log_policy_action, axis=1)\n",
    "        # entropy loss\n",
    "        entropy_loss = tf.reduce_mean(self.policy * tf.log(self.policy + _EPSILON), axis=1, keep_dims=True)\n",
    "        self.policy_loss = tf.reduce_mean(policy_loss + ENTROPY_BETA * entropy_loss)\n",
    "\n",
    "        # adjust some params\n",
    "        self.a_policy_loss = tf.reduce_mean(policy_loss)\n",
    "        self.a_entropy_loss = tf.reduce_mean(ENTROPY_BETA * entropy_loss)\n",
    "        self.a_value_loss = self.value_loss\n",
    "\n",
    "    def _build_update(self):\n",
    "        global_policy_params, global_value_params = self.Access.get_trainable_variables()\n",
    "        local_policy_params = self.policy_network.get_variables()\n",
    "        local_value_params = self.value_network.get_variables()\n",
    "        \n",
    "        policy_list = []\n",
    "        for g,l in zip(global_policy_params, local_policy_params):\n",
    "            policy_list.append(l.assign(g))\n",
    "            \n",
    "        value_list = []\n",
    "        for g,l in zip(global_value_params, local_value_params):\n",
    "            value_list.append(l.assign(g))        \n",
    "        \n",
    "        policy_grad = tf.gradients(self.policy_loss, list(local_policy_params))\n",
    "        value_grad = tf.gradients(self.value_loss, list(local_value_params))\n",
    "        \n",
    "        policy_apply = self.Access.optimizer_actor.apply_gradients(zip(policy_grad, list(global_policy_params)))\n",
    "        value_apply = self.Access.optimizer_critic.apply_gradients(zip(value_grad, list(global_value_params)))\n",
    "        return [policy_list, value_list], [policy_apply, value_apply]    \n",
    "    \n",
    "    def choose_action(self, SESS, state):  # run by a local\n",
    "        policy = SESS.run(self.policy, {self.inputs: np.expand_dims(state, axis=0)})\n",
    "        policy = np.squeeze(policy)\n",
    "        action = np.random.choice(self.action_space, 1, p=policy)\n",
    "        return action"
   ]
  },
  {
   "cell_type": "code",
   "execution_count": 11,
   "metadata": {},
   "outputs": [],
   "source": [
    "tf.reset_default_graph()\n",
    "A = Access(4, 2)\n",
    "W1 = ACNet(A, 4, 2, 'W1')"
   ]
  },
  {
   "cell_type": "code",
   "execution_count": 12,
   "metadata": {
    "collapsed": true
   },
   "outputs": [],
   "source": [
    "import gym\n",
    "\n",
    "GAME = 'CartPole-v0'\n",
    "env = gym.make(GAME)\n",
    "state_size = env.observation_space.shape[0]\n",
    "action_size = env.action_space.n\n",
    "\n",
    "MAX_EPISODES = 10000\n",
    "T_MAX = 10"
   ]
  },
  {
   "cell_type": "code",
   "execution_count": 13,
   "metadata": {},
   "outputs": [
    {
     "name": "stdout",
     "output_type": "stream",
     "text": [
      "-3.44622 0.176361 0.231128\n",
      "[[ 0.49149686  0.5085032 ]\n",
      " [ 0.50325364  0.49674636]\n",
      " [ 0.48817959  0.51182044]\n",
      " [ 0.46823886  0.53176111]\n",
      " [ 0.44359338  0.55640662]\n",
      " [ 0.41486967  0.58513033]]\n",
      "[[-0.31211376]\n",
      " [-0.9579134 ]\n",
      " [-0.5170238 ]\n",
      " [-0.19052696]\n",
      " [ 0.05043638]\n",
      " [ 0.25611442]]\n",
      "-3.44661 0.403376 0.45878\n",
      "[[ 0.46955764  0.53044242]\n",
      " [ 0.44623551  0.55376446]]\n",
      "[[-0.81697667]\n",
      " [-0.50010991]]\n",
      "-3.44488 -0.172246 0.379189\n",
      "[[ 0.48409194  0.51590806]\n",
      " [ 0.46674979  0.53325021]\n",
      " [ 0.48672178  0.51327825]\n",
      " [ 0.46822205  0.53177798]\n",
      " [ 0.44653374  0.55346626]\n",
      " [ 0.42218962  0.57781035]\n",
      " [ 0.44436392  0.55563611]]\n",
      "[[-0.40218067]\n",
      " [ 0.23497343]\n",
      " [-0.49358463]\n",
      " [ 0.12038279]\n",
      " [ 0.62364459]\n",
      " [ 1.07420444]\n",
      " [ 0.79774392]]\n",
      "-3.46018 -0.379111 0.609704\n",
      "[[ 0.50864553  0.49135438]\n",
      " [ 0.49535754  0.50464249]\n",
      " [ 0.50844342  0.49155653]\n",
      " [ 0.49405298  0.50594705]\n",
      " [ 0.4754352   0.5245648 ]\n",
      " [ 0.49204674  0.50795329]\n",
      " [ 0.47160101  0.52839893]\n",
      " [ 0.44754523  0.55245477]]\n",
      "[[-0.18834972]\n",
      " [ 0.69402361]\n",
      " [-0.32730007]\n",
      " [ 0.51008868]\n",
      " [ 1.16495299]\n",
      " [ 0.53357744]\n",
      " [ 0.96565086]\n",
      " [ 1.19116211]]\n",
      "-3.46399 -0.533274 0.835597\n",
      "[[ 0.50850374  0.49149632]\n",
      " [ 0.49380323  0.5061968 ]\n",
      " [ 0.47489208  0.52510786]\n",
      " [ 0.49113566  0.5088644 ]\n",
      " [ 0.50454789  0.49545211]\n",
      " [ 0.48585495  0.51414502]]\n",
      "[[ 0.16107988]\n",
      " [ 0.96749663]\n",
      " [ 1.55438828]\n",
      " [ 1.05612326]\n",
      " [ 0.32372832]\n",
      " [ 0.64440954]]\n",
      "-3.4541 -0.450769 0.536899\n",
      "[[ 0.4759452   0.52405471]\n",
      " [ 0.4539822   0.54601771]\n",
      " [ 0.47192773  0.52807224]]\n",
      "[[ 0.62513399]\n",
      " [ 0.9371984 ]\n",
      " [ 0.58443487]]\n",
      "-3.45731 -0.127156 0.0665583\n",
      "[[ 0.48371014  0.51628983]\n",
      " [ 0.46458843  0.5354116 ]\n",
      " [ 0.48198912  0.51801091]\n",
      " [ 0.46103281  0.53896725]]\n",
      "[[ 0.09305668]\n",
      " [ 0.46738362]\n",
      " [ 0.04006755]\n",
      " [ 0.193703  ]]\n",
      "-3.4647 -0.280777 0.434788\n",
      "[[ 0.48634958  0.51365042]\n",
      " [ 0.49991935  0.50008059]\n",
      " [ 0.5110094   0.4889906 ]]\n",
      "[[ 1.00026035]\n",
      " [ 0.48314846]\n",
      " [-0.26534915]]\n",
      "-3.4414 0.0403924 0.0140268\n",
      "[[ 0.46462369  0.53537625]\n",
      " [ 0.4399617   0.56003833]]\n",
      "[[-0.16468298]\n",
      " [ 0.03054833]]\n"
     ]
    }
   ],
   "source": [
    "tf.reset_default_graph()\n",
    "SESS = tf.Session()\n",
    "with tf.device(\"/cpu:0\"):\n",
    "    master = Access(state_size, action_size)\n",
    "    worker = ACNet(master, state_size, action_size, 'W0')\n",
    "    SESS.run(tf.global_variables_initializer())\n",
    "    \n",
    "    episode_score_list = []\n",
    "    episode = 0\n",
    "    while episode < MAX_EPISODES:\n",
    "        \n",
    "        t_start = t = 1\n",
    "        state = env.reset()\n",
    "        \n",
    "        buffer_state = []\n",
    "        buffer_reward = []\n",
    "        buffer_next_state = []\n",
    "        episode_score = 0\n",
    "        \n",
    "        while True:\n",
    "            SESS.run(worker.update_local)\n",
    "            action = worker.choose_action(SESS, state)[0]\n",
    "            next_state, reward, done, info = env.step(action)\n",
    "            episode_score += reward\n",
    "            \n",
    "            buffer_state.append(state)\n",
    "            buffer_reward.append(reward)\n",
    "            buffer_next_state.append(next_state)\n",
    "            state = next_state\n",
    "\n",
    "            if t - t_start == T_MAX or done:\n",
    "                t_start = t\n",
    "                            \n",
    "                if done:\n",
    "                    state_value = 0\n",
    "                else:\n",
    "                    state_value = SESS.run(worker.value, {worker.inputs:np.expand_dims(state, axis=0)})[0][0]\n",
    "                    \n",
    "                buffer_target = []\n",
    "                for r in buffer_reward[:-1][::-1]:\n",
    "                    state_value = r + GAMMA * state_value\n",
    "                    buffer_target.append(state_value)\n",
    "                buffer_target.reverse()\n",
    "                \n",
    "                feed_dict = {worker.inputs: np.vstack(buffer_state[:-1]), \n",
    "                             worker.action: np.squeeze(np.vstack(buffer_reward[:-1]), axis=1), \n",
    "                             worker.target: np.expand_dims(np.array(buffer_target), axis=1)}\n",
    "                SESS.run(worker.update_access, feed_dict)\n",
    "                \n",
    "                if done:\n",
    "                    if episode > 9990:\n",
    "                        entropy_loss, policy_loss, value_loss = SESS.run(\n",
    "                            [worker.a_entropy_loss, worker.a_policy_loss, worker.a_value_loss],\n",
    "                            feed_dict)         \n",
    "                        print (entropy_loss, policy_loss, value_loss)\n",
    "\n",
    "                        policy, advantage = SESS.run([worker.policy, worker.advantage], feed_dict)\n",
    "                        print (policy)\n",
    "                        print (advantage)\n",
    "                \n",
    "                buffer_state = [buffer_state[-1]]\n",
    "                buffer_reward = [buffer_reward[-1]]\n",
    "                buffer_next_state = [buffer_next_state[-1]]\n",
    "                \n",
    "            t += 1\n",
    "            if done:\n",
    "                episode +=1\n",
    "                episode_score_list.append(episode_score)\n",
    "                break\n",
    "            "
   ]
  },
  {
   "cell_type": "code",
   "execution_count": 14,
   "metadata": {},
   "outputs": [
    {
     "data": {
      "text/plain": [
       "<matplotlib.axes._subplots.AxesSubplot at 0x116df583a58>"
      ]
     },
     "execution_count": 14,
     "metadata": {},
     "output_type": "execute_result"
    },
    {
     "data": {
      "image/png": "[encoded data removed]",
      "text/plain": [
       "<matplotlib.figure.Figure at 0x116df583048>"
      ]
     },
     "metadata": {},
     "output_type": "display_data"
    }
   ],
   "source": [
    "%matplotlib inline\n",
    "import pandas as pd\n",
    "\n",
    "pd.Series(episode_score_list).plot(figsize=(16,9))"
   ]
  },
  {
   "cell_type": "code",
   "execution_count": 15,
   "metadata": {},
   "outputs": [
    {
     "data": {
      "text/plain": [
       "[<tf.Variable 'access/global_policy/linear/w:0' shape=(4, 32) dtype=float32_ref>,\n",
       " <tf.Variable 'access/global_policy/linear/b:0' shape=(32,) dtype=float32_ref>,\n",
       " <tf.Variable 'access/global_policy/linear_1/w:0' shape=(32, 32) dtype=float32_ref>,\n",
       " <tf.Variable 'access/global_policy/linear_1/b:0' shape=(32,) dtype=float32_ref>,\n",
       " <tf.Variable 'access/global_policy/linear_2/w:0' shape=(32, 2) dtype=float32_ref>,\n",
       " <tf.Variable 'access/global_policy/linear_2/b:0' shape=(2,) dtype=float32_ref>,\n",
       " <tf.Variable 'access/global_value/linear/w:0' shape=(4, 32) dtype=float32_ref>,\n",
       " <tf.Variable 'access/global_value/linear/b:0' shape=(32,) dtype=float32_ref>,\n",
       " <tf.Variable 'access/global_value/linear_1/w:0' shape=(32, 32) dtype=float32_ref>,\n",
       " <tf.Variable 'access/global_value/linear_1/b:0' shape=(32,) dtype=float32_ref>,\n",
       " <tf.Variable 'access/global_value/linear_2/w:0' shape=(32, 1) dtype=float32_ref>,\n",
       " <tf.Variable 'access/global_value/linear_2/b:0' shape=(1,) dtype=float32_ref>,\n",
       " <tf.Variable 'W0/global_policy/linear/w:0' shape=(4, 32) dtype=float32_ref>,\n",
       " <tf.Variable 'W0/global_policy/linear/b:0' shape=(32,) dtype=float32_ref>,\n",
       " <tf.Variable 'W0/global_policy/linear_1/w:0' shape=(32, 32) dtype=float32_ref>,\n",
       " <tf.Variable 'W0/global_policy/linear_1/b:0' shape=(32,) dtype=float32_ref>,\n",
       " <tf.Variable 'W0/global_policy/linear_2/w:0' shape=(32, 2) dtype=float32_ref>,\n",
       " <tf.Variable 'W0/global_policy/linear_2/b:0' shape=(2,) dtype=float32_ref>,\n",
       " <tf.Variable 'W0/global_value/linear/w:0' shape=(4, 32) dtype=float32_ref>,\n",
       " <tf.Variable 'W0/global_value/linear/b:0' shape=(32,) dtype=float32_ref>,\n",
       " <tf.Variable 'W0/global_value/linear_1/w:0' shape=(32, 32) dtype=float32_ref>,\n",
       " <tf.Variable 'W0/global_value/linear_1/b:0' shape=(32,) dtype=float32_ref>,\n",
       " <tf.Variable 'W0/global_value/linear_2/w:0' shape=(32, 1) dtype=float32_ref>,\n",
       " <tf.Variable 'W0/global_value/linear_2/b:0' shape=(1,) dtype=float32_ref>]"
      ]
     },
     "execution_count": 15,
     "metadata": {},
     "output_type": "execute_result"
    }
   ],
   "source": [
    "tf.trainable_variables()"
   ]
  }
 ],
 "metadata": {
  "kernelspec": {
   "display_name": "Python 3",
   "language": "python",
   "name": "python3"
  },
  "language_info": {
   "codemirror_mode": {
    "name": "ipython",
    "version": 3
   },
   "file_extension": ".py",
   "mimetype": "text/x-python",
   "name": "python",
   "nbconvert_exporter": "python",
   "pygments_lexer": "ipython3",
   "version": "3.6.1"
  }
 },
 "nbformat": 4,
 "nbformat_minor": 2
}
